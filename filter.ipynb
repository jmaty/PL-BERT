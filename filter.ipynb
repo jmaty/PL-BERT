{
 "cells": [
  {
   "cell_type": "markdown",
   "id": "c1d31f54",
   "metadata": {},
   "source": [
    "# Notebook for filtering and phonifying Wikipedia (Czech) dataset"
   ]
  },
  {
   "cell_type": "markdown",
   "id": "21eb8ed4",
   "metadata": {},
   "source": [
    "### Initilizing phonemizer and tokenizer"
   ]
  },
  {
   "cell_type": "code",
   "execution_count": null,
   "id": "d6ca5ee4",
   "metadata": {},
   "outputs": [],
   "source": [
    "import os\n",
    "import pysbd\n",
    "import re\n",
    "from tqdm import tqdm"
   ]
  },
  {
   "cell_type": "code",
   "execution_count": null,
   "id": "81bbd72d-f9ba-485c-ae33-53298eb8594a",
   "metadata": {},
   "outputs": [],
   "source": [
    "N_CPUS = int(os.environ[\"PBS_NUM_PPN\"])\n",
    "print(f\"> Number of CPUs: {N_CPUS}\")"
   ]
  },
  {
   "cell_type": "code",
   "execution_count": null,
   "id": "341058b9-3740-4bab-9e45-a309fefa6eb8",
   "metadata": {
    "editable": true,
    "slideshow": {
     "slide_type": ""
    },
    "tags": [
     "parameters"
    ]
   },
   "outputs": [],
   "source": [
    "inp_paragraph_file = '../BERT_cs/WIKI_C4Cleaned10.txt'\n",
    "out_sentence_file = '../BERT_cs/WIKI_C4Cleaned10.sent.txt'\n",
    "not_supported_chars_file = 'not_supported_chars.txt'\n",
    "\n",
    "supported_chars = {\n",
    "    'lower_chars': 'aábcčdďeéěfghiíjklmnňoópqrřsštťuúůvwxyýzž',\n",
    "    'upper_chars': 'AÁBCČDĎEÉĚFGHIÍJKLMNŇOÓPQRŘSŠTŤUÚŮVWXYÝZŽ',\n",
    "    'digits':  '0123456789',\n",
    "    'punct': \".,;:-? \",\n",
    "}\n",
    "\n",
    "replacements = {\n",
    "    '–': '-',\n",
    "    '—': '-',\n",
    "    '\"': '',\n",
    "    \"'\": '',\n",
    "}"
   ]
  },
  {
   "cell_type": "code",
   "execution_count": null,
   "id": "99fabc6c-5b32-4e04-93bb-e99681a53af8",
   "metadata": {},
   "outputs": [],
   "source": [
    "def count_lines(fname):\n",
    "    with open(fname, 'rb') as f:\n",
    "        n = 0\n",
    "        for block in iter(lambda: f.read(1024 * 1024), b''):\n",
    "            n += block.count(b'\\n')\n",
    "    return n\n",
    "\n",
    "def replace_chars(text, replacements):\n",
    "    text = re.sub(r'\\s+', ' ', text)\n",
    "    translation_table = str.maketrans(replacements)\n",
    "    return text.translate(translation_table)\n",
    "\n",
    "def remove_extremal_sentences(sentences, min_len=None, max_len=None, remove_neighbors=False):\n",
    "    new_sentences = []\n",
    "    for s in sentences:\n",
    "        s = s.strip()\n",
    "        if min_len and len(s) < min_len:\n",
    "            continue\n",
    "        if max_len and len(s) > max_len:\n",
    "            continue\n",
    "        new_sentences.append(s)\n",
    "    return new_sentences\n",
    "\n",
    "def check_chars(text, supported_dict, f):\n",
    "    # Check text starts with an upper char or digit\n",
    "    if text[0] not in supported_dict['upper_chars'] and text[0] not in supported_dict['digits']:\n",
    "        print(f'{text[0]} {text}', file=f)\n",
    "        return False\n",
    "    # Check supported chars\n",
    "    supported_string = ''.join(supported_dict.values())\n",
    "    for t in text:\n",
    "        if t not in supported_string:\n",
    "            print(f'{t} {text}', file=f)\n",
    "            return False\n",
    "    return True\n",
    "\n",
    "def check_word_level(sentence, f):\n",
    "    for idx, word in enumerate(sentence.split()):\n",
    "        # Check word contains only uppercase chars\n",
    "        if word.isupper():\n",
    "            if len(word) == 1 and idx == 0:\n",
    "                # Sentence-leading preposition is OK\n",
    "                continue\n",
    "            else:\n",
    "                # Abbreviation is not OK\n",
    "                print(f'{word} {sentence}', file=f)\n",
    "                return False\n",
    "    return True"
   ]
  },
  {
   "cell_type": "code",
   "execution_count": null,
   "id": "ca5fca47-cd35-4fb5-aa9f-d5d56aa00103",
   "metadata": {},
   "outputs": [],
   "source": [
    "seg = pysbd.Segmenter(language='sk', clean=False)"
   ]
  },
  {
   "cell_type": "markdown",
   "id": "2eb25417",
   "metadata": {},
   "source": [
    "### Process dataset"
   ]
  },
  {
   "cell_type": "code",
   "execution_count": null,
   "id": "25e5ae16",
   "metadata": {
    "scrolled": true
   },
   "outputs": [],
   "source": [
    "n_orig_sents, n_sents = 0, 0\n",
    "# n_lines = count_lines(inp_paragraph_file)\n",
    "\n",
    "# Go through all paragraph-based lines\n",
    "with open(inp_paragraph_file, 'r') as finp_par, open(out_sentence_file, 'w') as fout_sent, open(not_supported_chars_file, 'w') as fout_not_supp:\n",
    "    # for paragraph in tqdm(fr, total=n_lines):\n",
    "    for paragraph in finp_par:\n",
    "        paragraph = replace_chars(paragraph, replacements)\n",
    "        sentences = seg.segment(paragraph.strip())\n",
    "        n_orig_sents += len(sentences)\n",
    "        sentences = remove_extremal_sentences(sentences, 3)\n",
    "        for sentence in sentences:\n",
    "            if not check_chars(sentence, supported_chars, fout_not_supp):\n",
    "                continue\n",
    "            if not check_word_level(sentence, fout_not_supp):\n",
    "                continue\n",
    "            n_sents += 1\n",
    "            print(sentence, file=fout_sent)"
   ]
  },
  {
   "cell_type": "code",
   "execution_count": null,
   "id": "59eaa13c-7050-4864-bb19-126ede33989b",
   "metadata": {},
   "outputs": [],
   "source": [
    "print(f'Original sentences:  {n_orig_sents}')\n",
    "print(f'Processed sentences: {n_sents}')\n",
    "print(f'Used %:              {(n_sents/n_orig_sents):.2%}')"
   ]
  }
 ],
 "metadata": {
  "kernelspec": {
   "display_name": "Python 3 (ipykernel)",
   "language": "python",
   "name": "python3"
  },
  "language_info": {
   "codemirror_mode": {
    "name": "ipython",
    "version": 3
   },
   "file_extension": ".py",
   "mimetype": "text/x-python",
   "name": "python",
   "nbconvert_exporter": "python",
   "pygments_lexer": "ipython3",
   "version": "3.10.12"
  }
 },
 "nbformat": 4,
 "nbformat_minor": 5
}
