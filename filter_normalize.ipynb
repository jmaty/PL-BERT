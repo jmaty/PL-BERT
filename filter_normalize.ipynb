{
 "cells": [
  {
   "cell_type": "markdown",
   "id": "c1d31f54",
   "metadata": {},
   "source": [
    "# Notebook for filtering and normalizing Wikipedia (Czech) dataset"
   ]
  },
  {
   "cell_type": "markdown",
   "id": "21eb8ed4",
   "metadata": {},
   "source": [
    "### Initilizing phonemizer and tokenizer"
   ]
  },
  {
   "cell_type": "code",
   "execution_count": null,
   "id": "d6ca5ee4",
   "metadata": {},
   "outputs": [],
   "source": [
    "import os\n",
    "import re\n",
    "from datasets import load_dataset\n",
    "from tpp_ttstool import TppTtstool"
   ]
  },
  {
   "cell_type": "code",
   "execution_count": null,
   "id": "81bbd72d-f9ba-485c-ae33-53298eb8594a",
   "metadata": {},
   "outputs": [],
   "source": [
    "N_CPUS = int(os.environ[\"PBS_NUM_PPN\"])\n",
    "print(f\"> Number of CPUs: {N_CPUS}\")"
   ]
  },
  {
   "cell_type": "code",
   "execution_count": null,
   "id": "341058b9-3740-4bab-9e45-a309fefa6eb8",
   "metadata": {
    "editable": true,
    "slideshow": {
     "slide_type": ""
    },
    "tags": [
     "parameters"
    ]
   },
   "outputs": [],
   "source": [
    "# inp_paragraph_file = '../BERT_cs/test.txt'\n",
    "inp_paragraph_file = 'test_norm.txt'\n",
    "out_sentence_file = 'test_norm.out.txt'\n",
    "not_supported_chars_file = 'test_not_supported_chars.txt'\n",
    "ttstool_bin= \"./tts_tool/tts_tool\"\n",
    "ttstool_data = \"./tts_tool/data.new/frontend_normalize.json\"\n",
    "# punctuation = \".,;:-?!…\" # !!! TODO: definovat\n",
    "\n",
    "supported_chars = {\n",
    "    'lower_chars': 'aábcčdďeéěfghiíjklmnňoópqrřsštťuúůvwxyýzž',\n",
    "    'upper_chars': 'AÁBCČDĎEÉĚFGHIÍJKLMNŇOÓPQRŘSŠTŤUÚŮVWXYÝZŽ',\n",
    "    'digits':  '0123456789',\n",
    "    'white_spaces': ' ',\n",
    "    'punct': '.,;:-?',\n",
    "}\n",
    "\n",
    "replacements = {\n",
    "    'character': {\n",
    "        '–': '-',\n",
    "        '—': '-',\n",
    "        '−': '-',\n",
    "        '\"': '',\n",
    "        \"'\": '',\n",
    "        \"„\": '',\n",
    "        \"“\": '',\n",
    "    },\n",
    "    # 'word': {\n",
    "    #    '%': 'procent',\n",
    "    #},\n",
    "    'paragraph': {\n",
    "        'km/h': 'kilometrů za hodinu',\n",
    "        'm/s': 'metrů za sekundu',\n",
    "        'př.n.l.': 'před naším letopočtem',\n",
    "        'př. n. l.': 'před naším letopočtem',\n",
    "    }\n",
    "}"
   ]
  },
  {
   "cell_type": "code",
   "execution_count": null,
   "id": "30a3f938-3dc7-4f38-bed6-1233b287288e",
   "metadata": {},
   "outputs": [],
   "source": [
    "# Nejprve řadíme klíče slovníku podle délky v sestupném pořadí. To zajistí, že delší fráze budou nahrazeny před kratšími,\n",
    "# čímž se předejde nesprávným nebo duplicitním náhradám.\n",
    "paragraph_replacements = dict(sorted(replacements['paragraph'].items(), key=lambda item: len(item[0]), reverse=True))"
   ]
  },
  {
   "cell_type": "code",
   "execution_count": null,
   "id": "99fabc6c-5b32-4e04-93bb-e99681a53af8",
   "metadata": {},
   "outputs": [],
   "source": [
    "def count_lines(fname):\n",
    "    with open(fname, 'rb') as f:\n",
    "        n = 0\n",
    "        for block in iter(lambda: f.read(1024 * 1024), b''):\n",
    "            n += block.count(b'\\n')\n",
    "    return n\n",
    "\n",
    "def replace_chars(text, replacements):\n",
    "    text = re.sub(r'\\s+', ' ', text)\n",
    "    translation_table = str.maketrans(replacements)\n",
    "    return text.translate(translation_table)\n",
    "\n",
    "def is_extremal_sentence(sentence, min_len=None, max_len=None, remove_neighbors=False):\n",
    "    if min_len and len(sentence) < min_len:\n",
    "        return True\n",
    "    if max_len and len(sentence) > max_len:\n",
    "        return True\n",
    "    return False\n",
    "\n",
    "def check_chars(text, supported_dict, f):\n",
    "    # # Check text starts with an upper char or digit\n",
    "    # if text[0] not in supported_dict['upper_chars'] and text[0] not in supported_dict['digits']:\n",
    "    #    print(f'{text[0]} {text}', file=f)\n",
    "    #    print(\"!!!\")\n",
    "    #    return False\n",
    "    # Check supported chars\n",
    "    supported_string = ''.join(supported_dict.values())\n",
    "    for t in text:\n",
    "        if t not in supported_string:\n",
    "            print(f'{t} {text}', file=f)\n",
    "            return False\n",
    "    return True\n",
    "\n",
    "def check_word_level(sentence, f):\n",
    "    for idx, word in enumerate(sentence.split()):\n",
    "        if idx == 0 and len(word) == 1 and word.isupper():\n",
    "            # Sentence-leading preposition is OK\n",
    "            continue\n",
    "        # Check word contains uppercase chars\n",
    "        if not check_case_word(word):\n",
    "            # Acronym is not OK\n",
    "            print(f'{word} {sentence}', file=f)\n",
    "            return False\n",
    "    return True\n",
    "\n",
    "def check_word_level2(sentence, replacements, f):\n",
    "    words = []\n",
    "    for idx, word in enumerate(sentence.split()):\n",
    "        if word == '%':\n",
    "            words.append('procent')\n",
    "        if idx == 0 and len(word) == 1 and word.isupper():\n",
    "            # Sentence-leading preposition is OK\n",
    "            words.append(word)\n",
    "            continue\n",
    "        # Check word contains uppercase chars\n",
    "        if not check_case_word(word):\n",
    "            # Acronym is not OK\n",
    "            print(f'{word} {sentence}', file=f)\n",
    "            return None\n",
    "        words.append(word)\n",
    "    return ' '.join(words)\n",
    "\n",
    "def check_case_word(word):\n",
    "    n_upper = sum(1 for c in word if c.isupper())\n",
    "    # n_lower = sum(1 for c in text if c.lower())\n",
    "    return not(n_upper > 1)\n",
    "\n",
    "def replace_supchars(text, replacements):\n",
    "    pattern = re.compile(\"|\".join(map(re.escape, replacements.keys())))\n",
    "    return pattern.sub(lambda match: replacements[match.group(0)], text)\n",
    "\n",
    "def check_final_punct(text, punctuation):\n",
    "    if text[-1] in punctuation:\n",
    "        if text[-1] in ',;:-':\n",
    "            text = text[:-1] + '.'\n",
    "    else:\n",
    "        text += '.'\n",
    "    return text"
   ]
  },
  {
   "cell_type": "code",
   "execution_count": null,
   "id": "ca5fca47-cd35-4fb5-aa9f-d5d56aa00103",
   "metadata": {},
   "outputs": [],
   "source": [
    "# Setup TPP with path to tts_tool binary and data\n",
    "normalizer = TppTtstool('cz', tts_tool_bin=ttstool_bin, tts_tool_data=ttstool_data, punct=supported_chars['punct'])"
   ]
  },
  {
   "cell_type": "markdown",
   "id": "2eb25417",
   "metadata": {},
   "source": [
    "### Process dataset"
   ]
  },
  {
   "cell_type": "code",
   "execution_count": null,
   "id": "40a5f510-0fa7-40a3-84d3-e4da9bb5f908",
   "metadata": {},
   "outputs": [],
   "source": [
    "dataset = load_dataset('text', data_files=inp_paragraph_file)['train']"
   ]
  },
  {
   "cell_type": "code",
   "execution_count": null,
   "id": "a55f0e8e",
   "metadata": {},
   "outputs": [],
   "source": [
    "n_orig_sents, n_sents = 0, 0\n",
    "\n",
    "with open(out_sentence_file, 'w') as fout_sent, open(not_supported_chars_file, 'w') as fout_not_supp:\n",
    "    # Go through all paragraph-based lines\n",
    "    for ex in dataset:\n",
    "        # print(\"INPUT:   \", ex['text'])\n",
    "        paragraph = replace_supchars(ex['text'], paragraph_replacements)\n",
    "        # print(\"PAR REPL:\", paragraph)\n",
    "        # Replace unsupported characters\n",
    "        paragraph = replace_chars(paragraph, replacements['character'])\n",
    "        # print(\"CH REPL: \", paragraph)\n",
    "\n",
    "        try:    # Parse paragraph\n",
    "            normalizer.ssml_parse(paragraph)\n",
    "        except RuntimeError as e:\n",
    "            print('[!] Parsing paragraph failed => skipping\\n')\n",
    "            print(f'FAILED {paragraph}', file=fout_not_supp)\n",
    "            print(paragraph)\n",
    "            continue\n",
    "        \n",
    "        # Normalize & parse to sentences\n",
    "        sentences = list(normalizer.to_sentences_orto())\n",
    "\n",
    "        n_orig_sents += len(sentences)\n",
    "\n",
    "        # Go through individual sentences\n",
    "        for sentence in sentences:\n",
    "            if not check_chars(sentence, supported_chars, fout_not_supp):\n",
    "                continue\n",
    "            if is_extremal_sentence(sentence, 3):\n",
    "                continue\n",
    "            if not check_word_level(sentence, fout_not_supp):\n",
    "                continue\n",
    "            sentence = check_final_punct(sentence, supported_chars['punct'])\n",
    "            if sentence[0].islower():\n",
    "                sentence = sentence[0].upper() + sentence[1:]\n",
    "            \n",
    "            n_sents += 1\n",
    "            print(sentence, file=fout_sent)\n",
    "            # print('NORM SNT:', sentence)"
   ]
  },
  {
   "cell_type": "code",
   "execution_count": null,
   "id": "59eaa13c-7050-4864-bb19-126ede33989b",
   "metadata": {},
   "outputs": [],
   "source": [
    "print(f'Original sentences:  {n_orig_sents}')\n",
    "print(f'Processed sentences: {n_sents}')\n",
    "print(f'Used %:              {(n_sents/n_orig_sents):.2%}')"
   ]
  }
 ],
 "metadata": {
  "kernelspec": {
   "display_name": "Python 3 (ipykernel)",
   "language": "python",
   "name": "python3"
  },
  "language_info": {
   "codemirror_mode": {
    "name": "ipython",
    "version": 3
   },
   "file_extension": ".py",
   "mimetype": "text/x-python",
   "name": "python",
   "nbconvert_exporter": "python",
   "pygments_lexer": "ipython3",
   "version": "3.10.12"
  }
 },
 "nbformat": 4,
 "nbformat_minor": 5
}
