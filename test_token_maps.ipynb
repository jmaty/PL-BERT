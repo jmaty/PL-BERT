{
 "cells": [
  {
   "cell_type": "markdown",
   "id": "3f89a024-9c8f-4073-97ea-b21970828269",
   "metadata": {},
   "source": [
    "## Test token maps"
   ]
  },
  {
   "cell_type": "code",
   "execution_count": 2,
   "id": "90ba12a7-acab-4c23-86ec-abc58869b760",
   "metadata": {},
   "outputs": [],
   "source": [
    "import pickle\n",
    "with open('token_maps.pkl', 'rb') as f:\n",
    "    token_maps = pickle.load(f)"
   ]
  },
  {
   "cell_type": "code",
   "execution_count": null,
   "id": "69c4d47f-c183-4601-8659-b91ed11e823f",
   "metadata": {},
   "outputs": [],
   "source": [
    "len(token_maps)"
   ]
  },
  {
   "cell_type": "code",
   "execution_count": null,
   "id": "9e1e830b-e236-4a68-a404-bfcc29a54523",
   "metadata": {},
   "outputs": [],
   "source": [
    "token_maps[7273]"
   ]
  },
  {
   "cell_type": "code",
   "execution_count": null,
   "id": "ee5f408e-8f05-4403-87b6-2d2dbaa2ec0e",
   "metadata": {},
   "outputs": [],
   "source": [
    "len(\"ve dvacAtEm stoleTI se zaCal nAzef filozofije pouZIvat f SirSIm slova smislu i pro vipracovanE sistEmi nAboZenskE a Skoli moudrosTi , a mluvI se tedi i o filozofiji indickE , CInskE nebo africkE .\")"
   ]
  },
  {
   "cell_type": "markdown",
   "id": "1186eec4-0e7c-453b-8d09-7ee66a32e23b",
   "metadata": {},
   "source": [
    "## Tokenizer"
   ]
  },
  {
   "cell_type": "code",
   "execution_count": null,
   "id": "111bace8-7208-429f-bcaa-cb57b629b606",
   "metadata": {},
   "outputs": [],
   "source": [
    "from transformers import AutoTokenizer\n",
    "tokenizer = AutoTokenizer.from_pretrained(\"fav-kky/FERNET-C5\")"
   ]
  },
  {
   "cell_type": "code",
   "execution_count": null,
   "id": "f89dc385-1395-4d7c-9868-9e020897ab74",
   "metadata": {},
   "outputs": [],
   "source": [
    "word = \"Bormio\"\n",
    "wpiece = tokenizer.tokenize(word)\n",
    "print(wpiece)\n",
    "wpiece_id = tokenizer.encode(word, add_special_tokens=False)\n",
    "print(wpiece_id)"
   ]
  },
  {
   "cell_type": "code",
   "execution_count": null,
   "id": "d68bc110-8db9-45ae-8d42-3327478fd829",
   "metadata": {},
   "outputs": [],
   "source": [
    "token = tokenizer.decode(wpiece_id)\n",
    "print(token)\n",
    "wpiece_lower_id = tokenizer.encode(word.lower(), add_special_tokens=False)\n",
    "print(wpiece_lower_id)"
   ]
  },
  {
   "cell_type": "code",
   "execution_count": null,
   "id": "31652e00-a81f-4de4-b236-47053f715ef0",
   "metadata": {},
   "outputs": [],
   "source": [
    "tokenizer.decode(7689)"
   ]
  },
  {
   "cell_type": "code",
   "execution_count": null,
   "id": "c740ec93-d216-44bd-aa4b-3792d5f16efd",
   "metadata": {},
   "outputs": [],
   "source": [
    "tokenizer.encode('bor', add_special_tokens=False)"
   ]
  },
  {
   "cell_type": "code",
   "execution_count": null,
   "id": "a492b86c-7690-4d17-ad91-60102bc885be",
   "metadata": {},
   "outputs": [],
   "source": [
    "tokenizer.tokenize('bor', add_special_tokens=False)"
   ]
  },
  {
   "cell_type": "code",
   "execution_count": null,
   "id": "d945ca98-9402-4b2d-ab92-0023d3c197de",
   "metadata": {},
   "outputs": [],
   "source": [
    "tokenizer.convert_tokens_to_ids('bor')"
   ]
  },
  {
   "cell_type": "markdown",
   "id": "b1811002-b8bb-44ae-86e6-4311cf0f4bf7",
   "metadata": {},
   "source": [
    "## Print Token Maps"
   ]
  },
  {
   "cell_type": "code",
   "execution_count": 9,
   "id": "39dfe88d-96e7-46b3-bf02-78a6e5db3703",
   "metadata": {},
   "outputs": [],
   "source": [
    "with open(\"token_maps.txt\", \"wt\") as fw:\n",
    "    for k, v in token_maps.items():\n",
    "        print(v['token'], v['word'], file=fw)"
   ]
  }
 ],
 "metadata": {
  "kernelspec": {
   "display_name": "Python 3 (ipykernel)",
   "language": "python",
   "name": "python3"
  },
  "language_info": {
   "codemirror_mode": {
    "name": "ipython",
    "version": 3
   },
   "file_extension": ".py",
   "mimetype": "text/x-python",
   "name": "python",
   "nbconvert_exporter": "python",
   "pygments_lexer": "ipython3",
   "version": "3.10.12"
  }
 },
 "nbformat": 4,
 "nbformat_minor": 5
}
