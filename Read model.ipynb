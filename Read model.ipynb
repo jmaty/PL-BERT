{
 "cells": [
  {
   "cell_type": "code",
   "execution_count": 1,
   "id": "8d4d601f-92b4-4615-b2e7-a19533a5b586",
   "metadata": {},
   "outputs": [],
   "source": [
    "from collections import OrderedDict\n",
    "from transformers import AlbertConfig, AlbertModel\n",
    "import torch\n",
    "import yaml"
   ]
  },
  {
   "cell_type": "code",
   "execution_count": 3,
   "id": "d470ab4c-607b-4ee1-948b-2a0649b35b7f",
   "metadata": {},
   "outputs": [],
   "source": [
    "orig_path = '../StyleTTS2_string-symbols/Utils/PLBERT/step_1000000.t7'\n",
    "my_path = 'models/cz-phon-sentences/step_1000000.t7'"
   ]
  },
  {
   "cell_type": "code",
   "execution_count": 4,
   "id": "c4d5e7aa-4dd4-40e2-a98d-3327c82b70f4",
   "metadata": {},
   "outputs": [],
   "source": [
    "class CustomAlbert(AlbertModel):\n",
    "    def forward(self, *args, **kwargs):\n",
    "        # Call the original forward method\n",
    "        outputs = super().forward(*args, **kwargs)\n",
    "\n",
    "        # Only return the last_hidden_state\n",
    "        return outputs.last_hidden_state"
   ]
  },
  {
   "cell_type": "code",
   "execution_count": 5,
   "id": "3d8de361-43b7-4002-8d17-3df0359d78a2",
   "metadata": {},
   "outputs": [],
   "source": [
    "def load_plbert(model_file, config_file):\n",
    "    plbert_config = yaml.safe_load(open(config_file))\n",
    "    \n",
    "    albert_base_configuration = AlbertConfig(**plbert_config['model_params'])\n",
    "    bert = CustomAlbert(albert_base_configuration)\n",
    "\n",
    "    checkpoint = torch.load(model_file, map_location='cpu')\n",
    "    state_dict = checkpoint['net']\n",
    "    step = checkpoint['step']\n",
    "    new_state_dict = OrderedDict()\n",
    "    for k, v in state_dict.items():\n",
    "        name = k[7:] # remove `module.`\n",
    "        if name.startswith('encoder.'):\n",
    "            name = name[8:] # remove `encoder.`\n",
    "            new_state_dict[name] = v\n",
    "    if \"embeddings.position_ids\" in new_state_dict:\n",
    "        del new_state_dict[\"embeddings.position_ids\"]\n",
    "    bert.load_state_dict(new_state_dict, strict=False)\n",
    "    return bert, step"
   ]
  },
  {
   "cell_type": "code",
   "execution_count": 6,
   "id": "3abf7381-b04f-4598-871c-9ad5ad622751",
   "metadata": {},
   "outputs": [],
   "source": [
    "def save_model(model, path, step=None):\n",
    "    state_dict = {\n",
    "        'net': model.state_dict()\n",
    "    }\n",
    "    if step:\n",
    "        state_dict['step'] = step\n",
    "    torch.save(state_dict, path)"
   ]
  },
  {
   "cell_type": "code",
   "execution_count": 7,
   "id": "927a2227-491e-45cb-ba08-1bede0e6c056",
   "metadata": {},
   "outputs": [],
   "source": [
    "def get_model_size(model):\n",
    "    param_size = 0\n",
    "    buffer_size = 0\n",
    "    for param in model.parameters():\n",
    "        param_size += param.nelement() * param.element_size()\n",
    "    for buffer in model.buffers():\n",
    "        buffer_size += buffer.nelement() * buffer.element_size()\n",
    "    size_in_mb = (param_size + buffer_size) / (1024 ** 2)\n",
    "    print(f\"Velikost modelu: {size_in_mb:.2f} MB\")\n",
    "\n",
    "# Příklad použití:\n",
    "# model = Váš načtený model\n",
    "# get_model_size(model)"
   ]
  },
  {
   "cell_type": "code",
   "execution_count": 9,
   "id": "b54b55ca-db20-4668-86b1-7475afbe5d94",
   "metadata": {},
   "outputs": [
    {
     "data": {
      "text/plain": [
       "999999"
      ]
     },
     "execution_count": 9,
     "metadata": {},
     "output_type": "execute_result"
    }
   ],
   "source": [
    "my_model, my_step = load_plbert(my_path, 'models/cz-phon-sentences/config.yml')\n",
    "my_step"
   ]
  },
  {
   "cell_type": "code",
   "execution_count": 64,
   "id": "948e5a73-0236-4a58-8b71-5b320f176a6a",
   "metadata": {
    "scrolled": true
   },
   "outputs": [
    {
     "data": {
      "text/plain": [
       "1000000"
      ]
     },
     "execution_count": 64,
     "metadata": {},
     "output_type": "execute_result"
    }
   ],
   "source": [
    "orig_model, orig_step = load_plbert('../StyleTTS2_string-symbols/Utils/PLBERT/step_1000000.t7', '../StyleTTS2_string-symbols/Utils/PLBERT/config.yml')\n",
    "orig_step"
   ]
  },
  {
   "cell_type": "code",
   "execution_count": 65,
   "id": "3b4b5fc1-ea77-436d-9083-4fef43c134fc",
   "metadata": {},
   "outputs": [
    {
     "name": "stdout",
     "output_type": "stream",
     "text": [
      "Velikost modelu: 24.01 MB\n"
     ]
    }
   ],
   "source": [
    "get_model_size(my_model)"
   ]
  },
  {
   "cell_type": "code",
   "execution_count": 66,
   "id": "94a8a372-36dd-4e2e-9979-9467783c4cb4",
   "metadata": {},
   "outputs": [
    {
     "name": "stdout",
     "output_type": "stream",
     "text": [
      "Velikost modelu: 24.01 MB\n"
     ]
    }
   ],
   "source": [
    "get_model_size(orig_model)"
   ]
  },
  {
   "cell_type": "code",
   "execution_count": 10,
   "id": "92e41dee-727f-4db7-b8b0-b2f428172379",
   "metadata": {},
   "outputs": [],
   "source": [
    "save_model(my_model, 'models/cz-phon-sentences/step_1000000.reduced.t7', my_step+1)"
   ]
  }
 ],
 "metadata": {
  "kernelspec": {
   "display_name": "Python 3 (ipykernel)",
   "language": "python",
   "name": "python3"
  },
  "language_info": {
   "codemirror_mode": {
    "name": "ipython",
    "version": 3
   },
   "file_extension": ".py",
   "mimetype": "text/x-python",
   "name": "python",
   "nbconvert_exporter": "python",
   "pygments_lexer": "ipython3",
   "version": "3.10.12"
  }
 },
 "nbformat": 4,
 "nbformat_minor": 5
}
